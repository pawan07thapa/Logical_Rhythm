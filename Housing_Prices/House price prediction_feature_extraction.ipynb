{
 "cells": [
  {
   "cell_type": "code",
   "execution_count": 10,
   "metadata": {
    "collapsed": true
   },
   "outputs": [],
   "source": [
    "import numpy as np\n",
    "import pandas as pd\n",
    "import re"
   ]
  },
  {
   "cell_type": "code",
   "execution_count": 11,
   "metadata": {},
   "outputs": [],
   "source": [
    "def extract_features(lines):\n",
    "    features = dict()\n",
    "    for line in lines:\n",
    "        if 'House ID' in line:\n",
    "            features['House ID'] = line.split()[-1]\n",
    "            continue\n",
    "        if 'Date Built' in line and 'Date Priced' in line:\n",
    "            date_built, date_priced = line.split('and')\n",
    "            features['Date Built'] = line.split(': ')[-1].strip()\n",
    "            features['Date Priced'] = line.split(': ')[-1].strip()\n",
    "            continue\n",
    "        if 'garden' in line:\n",
    "            if 'no space' in line:\n",
    "                features['garden'] = 0\n",
    "                continue\n",
    "            if 'beautiful' in line:\n",
    "                features['garden'] = 1\n",
    "                continue\n",
    "        if 'Distance from' in line:\n",
    "            place,distance = line.replace(' holy lights','').split(' is ')\n",
    "            features[place] = float(distance)\n",
    "            continue\n",
    "        if 'dining rooms' in line:\n",
    "            features['dining rooms'] = int(line.replace('There are ','').split()[0])\n",
    "            continue\n",
    "        if 'bedrooms' in line:\n",
    "            features['bedrooms'] = int(line.replace('There are ','').split()[0])\n",
    "            continue\n",
    "        if 'bathrooms' in line:\n",
    "            features['bathrooms'] = int(line.replace('There are ','').split()[0])\n",
    "            continue\n",
    "        if 'King' in line and ('visit' in line or 'Visited' in line):\n",
    "            if 'couldn\\'t' in line:\n",
    "                features['King visited'] = 0\n",
    "                continue\n",
    "            else:\n",
    "                features['King visited'] = 1\n",
    "                continue\n",
    "        if 'curse' in line:\n",
    "            if 'cursed' in line:\n",
    "                features['cursed'] = 1\n",
    "                continue\n",
    "            else:\n",
    "                features['cursed'] = 0\n",
    "                continue\n",
    "        if 'King blessed the house with ' in line:\n",
    "            features['blessings'] = int(line.replace('King blessed the house with ','').replace(' blessings',''))\n",
    "            continue\n",
    "        if 'land of farm' in line:\n",
    "            if 'huge' in line:\n",
    "                features['farm'] = 'huge'\n",
    "                continue\n",
    "            elif 'small' in line:\n",
    "                features['farm'] = 'small'\n",
    "                continue\n",
    "            elif 'no land' in line:\n",
    "                features['farm'] = 'no land'\n",
    "                continue\n",
    "        if 'Location of the house' in line:\n",
    "            features['Location'] = line.split(': ')[-1].strip()\n",
    "            continue\n",
    "        if 'Holy tree'in line:\n",
    "            if 'stands' in line:\n",
    "                features['Holy tree'] = 1\n",
    "                continue\n",
    "            elif 'cut' in line:\n",
    "                features['Holy tree'] = -1\n",
    "                continue\n",
    "        if 'Distance from Knight\\'s house is ' in line:\n",
    "            features['distance from Knight house'] = float(line.replace('Distance from Knight\\'s house is ','').replace(' holy lights',''))\n",
    "            continue\n",
    "        if 'renovation' in line:\n",
    "            if 'did not' in line:\n",
    "                features['renovation'] = 0\n",
    "                continue\n",
    "            elif 'underwent' in line:\n",
    "                features['renovation'] = 1\n",
    "                continue\n",
    "    return features"
   ]
  },
  {
   "cell_type": "code",
   "execution_count": 12,
   "metadata": {
    "collapsed": true
   },
   "outputs": [],
   "source": [
    "def extract_data(filename):\n",
    "    text = open(filename,'r').read()\n",
    "    data = pd.DataFrame()\n",
    "    count = 0\n",
    "    houses = text.split('\\n\\n')\n",
    "    for house_details in houses:\n",
    "        features = extract_features(house_details.split('\\n'))\n",
    "        for key in features.keys():\n",
    "            data.loc[count,key] = features[key]\n",
    "        count += 1\n",
    "    return data     "
   ]
  },
  {
   "cell_type": "code",
   "execution_count": 13,
   "metadata": {
    "collapsed": true
   },
   "outputs": [],
   "source": [
    "def getAllData(filenames):\n",
    "    allData = pd.DataFrame()\n",
    "    for filename in filenames:\n",
    "        print filename\n",
    "        data = extract_data(filename)\n",
    "        allData = pd.concat([allData,data])\n",
    "    return allData    "
   ]
  },
  {
   "cell_type": "code",
   "execution_count": null,
   "metadata": {},
   "outputs": [
    {
     "name": "stdout",
     "output_type": "stream",
     "text": [
      "This will take around 10 minutes or so\n",
      "The-Kings.txt\n",
      "The-Greens.txt\n",
      "The-Lannisters.txt\n",
      "Bright-Brothers.txt\n",
      "Masters-of-Stones.txt\n",
      "The-Ollivers.txt\n",
      "The-Overlords.txt\n",
      "The-Starks.txt\n"
     ]
    }
   ],
   "source": [
    "filenames = ['The-Kings.txt','The-Greens.txt','The-Lannisters.txt','Bright-Brothers.txt',\n",
    "             'Masters-of-Stones.txt','The-Ollivers.txt','The-Overlords.txt','The-Starks.txt',\n",
    "             'Wood-Priests.txt','Bob.txt','Not-Known.txt']\n",
    "print \"This will take around 10 minutes or so\"\n",
    "allData = getAllData(filenames)"
   ]
  },
  {
   "cell_type": "code",
   "execution_count": 9,
   "metadata": {},
   "outputs": [
    {
     "name": "stdout",
     "output_type": "stream",
     "text": [
      "<class 'pandas.core.frame.DataFrame'>\n",
      "Int64Index: 20000 entries, 0 to 1392\n",
      "Data columns (total 19 columns):\n",
      "Date Built                      20000 non-null object\n",
      "Date Priced                     20000 non-null object\n",
      "Distance from Capital           18985 non-null float64\n",
      "Distance from Guarding Tower    19366 non-null float64\n",
      "Distance from Knight's house    18985 non-null float64\n",
      "Distance from Royal Market      17175 non-null float64\n",
      "Distance from the Dock          17980 non-null float64\n",
      "Distance from the River         20000 non-null float64\n",
      "Holy tree                       16030 non-null object\n",
      "House ID                        20000 non-null object\n",
      "King visited                    20000 non-null float64\n",
      "Location                        17963 non-null object\n",
      "bathrooms                       18834 non-null float64\n",
      "bedrooms                        19225 non-null float64\n",
      "blessings                       20000 non-null float64\n",
      "cursed                          15960 non-null float64\n",
      "dining rooms                    18010 non-null float64\n",
      "farm in front                   18287 non-null object\n",
      "garden                          17586 non-null object\n",
      "dtypes: float64(12), object(7)\n",
      "memory usage: 3.1+ MB\n"
     ]
    }
   ],
   "source": [
    "allData.head()\n",
    "allData.info()"
   ]
  },
  {
   "cell_type": "code",
   "execution_count": 7,
   "metadata": {
    "collapsed": true
   },
   "outputs": [],
   "source": [
    "allData.to_csv('allData.csv',index=False)"
   ]
  },
  {
   "cell_type": "code",
   "execution_count": null,
   "metadata": {
    "collapsed": true
   },
   "outputs": [],
   "source": []
  }
 ],
 "metadata": {
  "kernelspec": {
   "display_name": "Python 3",
   "language": "python",
   "name": "python3"
  },
  "language_info": {
   "codemirror_mode": {
    "name": "ipython",
    "version": 3
   },
   "file_extension": ".py",
   "mimetype": "text/x-python",
   "name": "python",
   "nbconvert_exporter": "python",
   "pygments_lexer": "ipython3",
   "version": "3.6.1"
  }
 },
 "nbformat": 4,
 "nbformat_minor": 2
}

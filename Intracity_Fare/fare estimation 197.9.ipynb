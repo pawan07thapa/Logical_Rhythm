{
 "cells": [
  {
   "cell_type": "code",
   "execution_count": 1,
   "metadata": {
    "collapsed": true
   },
   "outputs": [],
   "source": [
    "import numpy as np\n",
    "import pandas as pd\n",
    "import sklearn\n",
    "import seaborn as sns\n",
    "import matplotlib.pyplot as plt\n",
    "%matplotlib inline\n",
    "from sklearn.metrics import r2_score\n",
    "#import xgboost as xgb\n",
    "import warnings\n",
    "warnings.filterwarnings('ignore')\n"
   ]
  },
  {
   "cell_type": "code",
   "execution_count": 103,
   "metadata": {
    "collapsed": true
   },
   "outputs": [],
   "source": [
    "#reading data\n",
    "train = pd.read_csv('intracity_fare_train.csv')\n",
    "test = pd.read_csv('intracity_fare_test.csv')"
   ]
  },
  {
   "cell_type": "code",
   "execution_count": 104,
   "metadata": {
    "collapsed": true
   },
   "outputs": [],
   "source": [
    "#converting the TIMESTAMP to DATETIME \n",
    "#prices depend on what time you board the taxi e.g.- fare of a taxi at 1 am is more than than fare at 1 pm\n",
    "#dividing each three hours into one category -e.g.- price at 1 am is likely to be same as 4 am\n",
    "\n",
    "train['TIMESTAMP'] = pd.to_datetime(train['TIMESTAMP']).apply(lambda x: x.hour // 3)\n",
    "test['TIMESTAMP'] = pd.to_datetime(test['TIMESTAMP']).apply(lambda x: x.hour // 3)"
   ]
  },
  {
   "cell_type": "code",
   "execution_count": 105,
   "metadata": {},
   "outputs": [
    {
     "data": {
      "text/html": [
       "<div>\n",
       "<style>\n",
       "    .dataframe thead tr:only-child th {\n",
       "        text-align: right;\n",
       "    }\n",
       "\n",
       "    .dataframe thead th {\n",
       "        text-align: left;\n",
       "    }\n",
       "\n",
       "    .dataframe tbody tr th {\n",
       "        vertical-align: top;\n",
       "    }\n",
       "</style>\n",
       "<table border=\"1\" class=\"dataframe\">\n",
       "  <thead>\n",
       "    <tr style=\"text-align: right;\">\n",
       "      <th></th>\n",
       "      <th>ID</th>\n",
       "      <th>TIMESTAMP</th>\n",
       "      <th>STARTING_LATITUDE</th>\n",
       "      <th>STARTING_LONGITUDE</th>\n",
       "      <th>DESTINATION_LATITUDE</th>\n",
       "      <th>DESTINATION_LONGITUDE</th>\n",
       "      <th>VEHICLE_TYPE</th>\n",
       "      <th>TOTAL_LUGGAGE_WEIGHT</th>\n",
       "      <th>WAIT_TIME</th>\n",
       "      <th>TRAFFIC_STUCK_TIME</th>\n",
       "      <th>DISTANCE</th>\n",
       "      <th>FARE</th>\n",
       "    </tr>\n",
       "  </thead>\n",
       "  <tbody>\n",
       "    <tr>\n",
       "      <th>0</th>\n",
       "      <td>1</td>\n",
       "      <td>2</td>\n",
       "      <td>13.044677</td>\n",
       "      <td>80.235723</td>\n",
       "      <td>13.178228</td>\n",
       "      <td>80.163277</td>\n",
       "      <td>Bus</td>\n",
       "      <td>NaN</td>\n",
       "      <td>NaN</td>\n",
       "      <td>8</td>\n",
       "      <td>34</td>\n",
       "      <td>32.09</td>\n",
       "    </tr>\n",
       "    <tr>\n",
       "      <th>1</th>\n",
       "      <td>2</td>\n",
       "      <td>7</td>\n",
       "      <td>28.639580</td>\n",
       "      <td>77.074113</td>\n",
       "      <td>28.587288</td>\n",
       "      <td>76.971306</td>\n",
       "      <td>Taxi AC</td>\n",
       "      <td>7.0</td>\n",
       "      <td>9.0</td>\n",
       "      <td>66</td>\n",
       "      <td>34</td>\n",
       "      <td>985.99</td>\n",
       "    </tr>\n",
       "    <tr>\n",
       "      <th>2</th>\n",
       "      <td>3</td>\n",
       "      <td>1</td>\n",
       "      <td>25.373881</td>\n",
       "      <td>82.969570</td>\n",
       "      <td>25.349656</td>\n",
       "      <td>82.992587</td>\n",
       "      <td>Taxi Non AC</td>\n",
       "      <td>18.0</td>\n",
       "      <td>6.0</td>\n",
       "      <td>53</td>\n",
       "      <td>1</td>\n",
       "      <td>1085.33</td>\n",
       "    </tr>\n",
       "    <tr>\n",
       "      <th>3</th>\n",
       "      <td>4</td>\n",
       "      <td>6</td>\n",
       "      <td>NaN</td>\n",
       "      <td>NaN</td>\n",
       "      <td>28.758384</td>\n",
       "      <td>77.011422</td>\n",
       "      <td>Metro</td>\n",
       "      <td>NaN</td>\n",
       "      <td>NaN</td>\n",
       "      <td>54</td>\n",
       "      <td>31</td>\n",
       "      <td>56.21</td>\n",
       "    </tr>\n",
       "    <tr>\n",
       "      <th>4</th>\n",
       "      <td>5</td>\n",
       "      <td>0</td>\n",
       "      <td>22.543506</td>\n",
       "      <td>88.446273</td>\n",
       "      <td>22.706696</td>\n",
       "      <td>88.429522</td>\n",
       "      <td>bus</td>\n",
       "      <td>NaN</td>\n",
       "      <td>NaN</td>\n",
       "      <td>33</td>\n",
       "      <td>44</td>\n",
       "      <td>30.62</td>\n",
       "    </tr>\n",
       "  </tbody>\n",
       "</table>\n",
       "</div>"
      ],
      "text/plain": [
       "   ID  TIMESTAMP  STARTING_LATITUDE  STARTING_LONGITUDE  DESTINATION_LATITUDE  \\\n",
       "0   1          2          13.044677           80.235723             13.178228   \n",
       "1   2          7          28.639580           77.074113             28.587288   \n",
       "2   3          1          25.373881           82.969570             25.349656   \n",
       "3   4          6                NaN                 NaN             28.758384   \n",
       "4   5          0          22.543506           88.446273             22.706696   \n",
       "\n",
       "   DESTINATION_LONGITUDE VEHICLE_TYPE  TOTAL_LUGGAGE_WEIGHT  WAIT_TIME  \\\n",
       "0              80.163277          Bus                   NaN        NaN   \n",
       "1              76.971306      Taxi AC                   7.0        9.0   \n",
       "2              82.992587  Taxi Non AC                  18.0        6.0   \n",
       "3              77.011422        Metro                   NaN        NaN   \n",
       "4              88.429522          bus                   NaN        NaN   \n",
       "\n",
       "   TRAFFIC_STUCK_TIME  DISTANCE     FARE  \n",
       "0                   8        34    32.09  \n",
       "1                  66        34   985.99  \n",
       "2                  53         1  1085.33  \n",
       "3                  54        31    56.21  \n",
       "4                  33        44    30.62  "
      ]
     },
     "execution_count": 105,
     "metadata": {},
     "output_type": "execute_result"
    }
   ],
   "source": [
    "train.head()"
   ]
  },
  {
   "cell_type": "code",
   "execution_count": 106,
   "metadata": {},
   "outputs": [
    {
     "name": "stdout",
     "output_type": "stream",
     "text": [
      "<class 'pandas.core.frame.DataFrame'>\n",
      "RangeIndex: 20000 entries, 0 to 19999\n",
      "Data columns (total 12 columns):\n",
      "ID                       20000 non-null int64\n",
      "TIMESTAMP                20000 non-null int64\n",
      "STARTING_LATITUDE        19325 non-null float64\n",
      "STARTING_LONGITUDE       19325 non-null float64\n",
      "DESTINATION_LATITUDE     19337 non-null float64\n",
      "DESTINATION_LONGITUDE    19337 non-null float64\n",
      "VEHICLE_TYPE             20000 non-null object\n",
      "TOTAL_LUGGAGE_WEIGHT     5648 non-null float64\n",
      "WAIT_TIME                5648 non-null float64\n",
      "TRAFFIC_STUCK_TIME       20000 non-null int64\n",
      "DISTANCE                 20000 non-null int64\n",
      "FARE                     20000 non-null float64\n",
      "dtypes: float64(7), int64(4), object(1)\n",
      "memory usage: 1.8+ MB\n",
      "None\n",
      "*******************************************************\n",
      "<class 'pandas.core.frame.DataFrame'>\n",
      "RangeIndex: 20000 entries, 0 to 19999\n",
      "Data columns (total 11 columns):\n",
      "ID                       20000 non-null int64\n",
      "TIMESTAMP                20000 non-null int64\n",
      "STARTING_LATITUDE        20000 non-null float64\n",
      "STARTING_LONGITUDE       20000 non-null float64\n",
      "DESTINATION_LATITUDE     20000 non-null float64\n",
      "DESTINATION_LONGITUDE    20000 non-null float64\n",
      "VEHICLE_TYPE             20000 non-null object\n",
      "TOTAL_LUGGAGE_WEIGHT     5739 non-null float64\n",
      "WAIT_TIME                5739 non-null float64\n",
      "TRAFFIC_STUCK_TIME       20000 non-null int64\n",
      "DISTANCE                 20000 non-null int64\n",
      "dtypes: float64(6), int64(4), object(1)\n",
      "memory usage: 1.7+ MB\n",
      "None\n"
     ]
    }
   ],
   "source": [
    "\n",
    "print(train.info())\n",
    "print(\"*******************************************************\")\n",
    "print(test.info())\n",
    "\n",
    "#dataset has many NAN values"
   ]
  },
  {
   "cell_type": "code",
   "execution_count": 108,
   "metadata": {},
   "outputs": [
    {
     "data": {
      "text/html": [
       "<div>\n",
       "<style>\n",
       "    .dataframe thead tr:only-child th {\n",
       "        text-align: right;\n",
       "    }\n",
       "\n",
       "    .dataframe thead th {\n",
       "        text-align: left;\n",
       "    }\n",
       "\n",
       "    .dataframe tbody tr th {\n",
       "        vertical-align: top;\n",
       "    }\n",
       "</style>\n",
       "<table border=\"1\" class=\"dataframe\">\n",
       "  <thead>\n",
       "    <tr style=\"text-align: right;\">\n",
       "      <th></th>\n",
       "      <th>ID</th>\n",
       "      <th>TIMESTAMP</th>\n",
       "      <th>STARTING_LATITUDE</th>\n",
       "      <th>STARTING_LONGITUDE</th>\n",
       "      <th>DESTINATION_LATITUDE</th>\n",
       "      <th>DESTINATION_LONGITUDE</th>\n",
       "      <th>TOTAL_LUGGAGE_WEIGHT</th>\n",
       "      <th>WAIT_TIME</th>\n",
       "      <th>TRAFFIC_STUCK_TIME</th>\n",
       "      <th>DISTANCE</th>\n",
       "      <th>FARE</th>\n",
       "    </tr>\n",
       "  </thead>\n",
       "  <tbody>\n",
       "    <tr>\n",
       "      <th>count</th>\n",
       "      <td>20000.000000</td>\n",
       "      <td>20000.000000</td>\n",
       "      <td>19325.000000</td>\n",
       "      <td>19325.000000</td>\n",
       "      <td>19337.000000</td>\n",
       "      <td>19337.000000</td>\n",
       "      <td>5648.000000</td>\n",
       "      <td>5648.000000</td>\n",
       "      <td>20000.000000</td>\n",
       "      <td>20000.000000</td>\n",
       "      <td>20000.000000</td>\n",
       "    </tr>\n",
       "    <tr>\n",
       "      <th>mean</th>\n",
       "      <td>10000.500000</td>\n",
       "      <td>3.488800</td>\n",
       "      <td>20.111445</td>\n",
       "      <td>79.794135</td>\n",
       "      <td>20.129680</td>\n",
       "      <td>79.793273</td>\n",
       "      <td>15.447238</td>\n",
       "      <td>9.433605</td>\n",
       "      <td>30.066750</td>\n",
       "      <td>30.543050</td>\n",
       "      <td>251.926063</td>\n",
       "    </tr>\n",
       "    <tr>\n",
       "      <th>std</th>\n",
       "      <td>5773.647028</td>\n",
       "      <td>2.281652</td>\n",
       "      <td>5.908449</td>\n",
       "      <td>4.939736</td>\n",
       "      <td>5.909585</td>\n",
       "      <td>4.941561</td>\n",
       "      <td>8.558223</td>\n",
       "      <td>5.779630</td>\n",
       "      <td>21.951902</td>\n",
       "      <td>12.123407</td>\n",
       "      <td>300.067490</td>\n",
       "    </tr>\n",
       "    <tr>\n",
       "      <th>min</th>\n",
       "      <td>1.000000</td>\n",
       "      <td>0.000000</td>\n",
       "      <td>12.842900</td>\n",
       "      <td>72.835882</td>\n",
       "      <td>12.843029</td>\n",
       "      <td>72.835873</td>\n",
       "      <td>1.000000</td>\n",
       "      <td>0.000000</td>\n",
       "      <td>0.000000</td>\n",
       "      <td>0.000000</td>\n",
       "      <td>7.000000</td>\n",
       "    </tr>\n",
       "    <tr>\n",
       "      <th>25%</th>\n",
       "      <td>5000.750000</td>\n",
       "      <td>1.000000</td>\n",
       "      <td>13.086064</td>\n",
       "      <td>77.093570</td>\n",
       "      <td>13.087377</td>\n",
       "      <td>77.087018</td>\n",
       "      <td>8.000000</td>\n",
       "      <td>4.000000</td>\n",
       "      <td>12.000000</td>\n",
       "      <td>22.000000</td>\n",
       "      <td>42.097500</td>\n",
       "    </tr>\n",
       "    <tr>\n",
       "      <th>50%</th>\n",
       "      <td>10000.500000</td>\n",
       "      <td>3.000000</td>\n",
       "      <td>19.231625</td>\n",
       "      <td>77.705107</td>\n",
       "      <td>19.235435</td>\n",
       "      <td>77.706558</td>\n",
       "      <td>15.000000</td>\n",
       "      <td>9.000000</td>\n",
       "      <td>26.000000</td>\n",
       "      <td>31.000000</td>\n",
       "      <td>75.330000</td>\n",
       "    </tr>\n",
       "    <tr>\n",
       "      <th>75%</th>\n",
       "      <td>15000.250000</td>\n",
       "      <td>5.000000</td>\n",
       "      <td>25.317237</td>\n",
       "      <td>82.990730</td>\n",
       "      <td>25.317921</td>\n",
       "      <td>82.990571</td>\n",
       "      <td>23.000000</td>\n",
       "      <td>14.000000</td>\n",
       "      <td>45.000000</td>\n",
       "      <td>40.000000</td>\n",
       "      <td>416.130000</td>\n",
       "    </tr>\n",
       "    <tr>\n",
       "      <th>max</th>\n",
       "      <td>20000.000000</td>\n",
       "      <td>7.000000</td>\n",
       "      <td>28.770716</td>\n",
       "      <td>88.452179</td>\n",
       "      <td>28.770713</td>\n",
       "      <td>88.452149</td>\n",
       "      <td>30.000000</td>\n",
       "      <td>19.000000</td>\n",
       "      <td>95.000000</td>\n",
       "      <td>99.000000</td>\n",
       "      <td>1972.000000</td>\n",
       "    </tr>\n",
       "  </tbody>\n",
       "</table>\n",
       "</div>"
      ],
      "text/plain": [
       "                 ID     TIMESTAMP  STARTING_LATITUDE  STARTING_LONGITUDE  \\\n",
       "count  20000.000000  20000.000000       19325.000000        19325.000000   \n",
       "mean   10000.500000      3.488800          20.111445           79.794135   \n",
       "std     5773.647028      2.281652           5.908449            4.939736   \n",
       "min        1.000000      0.000000          12.842900           72.835882   \n",
       "25%     5000.750000      1.000000          13.086064           77.093570   \n",
       "50%    10000.500000      3.000000          19.231625           77.705107   \n",
       "75%    15000.250000      5.000000          25.317237           82.990730   \n",
       "max    20000.000000      7.000000          28.770716           88.452179   \n",
       "\n",
       "       DESTINATION_LATITUDE  DESTINATION_LONGITUDE  TOTAL_LUGGAGE_WEIGHT  \\\n",
       "count          19337.000000           19337.000000           5648.000000   \n",
       "mean              20.129680              79.793273             15.447238   \n",
       "std                5.909585               4.941561              8.558223   \n",
       "min               12.843029              72.835873              1.000000   \n",
       "25%               13.087377              77.087018              8.000000   \n",
       "50%               19.235435              77.706558             15.000000   \n",
       "75%               25.317921              82.990571             23.000000   \n",
       "max               28.770713              88.452149             30.000000   \n",
       "\n",
       "         WAIT_TIME  TRAFFIC_STUCK_TIME      DISTANCE          FARE  \n",
       "count  5648.000000        20000.000000  20000.000000  20000.000000  \n",
       "mean      9.433605           30.066750     30.543050    251.926063  \n",
       "std       5.779630           21.951902     12.123407    300.067490  \n",
       "min       0.000000            0.000000      0.000000      7.000000  \n",
       "25%       4.000000           12.000000     22.000000     42.097500  \n",
       "50%       9.000000           26.000000     31.000000     75.330000  \n",
       "75%      14.000000           45.000000     40.000000    416.130000  \n",
       "max      19.000000           95.000000     99.000000   1972.000000  "
      ]
     },
     "execution_count": 108,
     "metadata": {},
     "output_type": "execute_result"
    }
   ],
   "source": [
    "train.describe()"
   ]
  },
  {
   "cell_type": "code",
   "execution_count": 114,
   "metadata": {},
   "outputs": [
    {
     "data": {
      "text/plain": [
       "array(['Bus', 'Taxi AC', 'Taxi Non AC', 'Metro', 'bus', 'AC bus',\n",
       "       'taxi Non ac', 'metro', 'mini bus', 'mini Bus', 'Auto Rickshaw',\n",
       "       'Taxi non ac', 'ac bus', 'Ac Bus', 'Auto rickshaw', 'AUTO RICKSHAW',\n",
       "       'taxi non ac', 'AC Bus', 'auto rickshaw', 'taxi ac', 'taxi Non Ac',\n",
       "       'Mini bus', 'Taxi non Ac', 'taxi non Ac', 'Mini Bus'], dtype=object)"
      ]
     },
     "execution_count": 114,
     "metadata": {},
     "output_type": "execute_result"
    }
   ],
   "source": [
    "train['VEHICLE_TYPE'].unique()\n",
    "#the dataset in trying to mislead us by showing so many VEHICLES TYPES "
   ]
  },
  {
   "cell_type": "code",
   "execution_count": 67,
   "metadata": {},
   "outputs": [
    {
     "data": {
      "text/plain": [
       "array(['bus', 'taxi ac', 'taxi non ac', 'metro', 'ac bus', 'mini bus',\n",
       "       'auto rickshaw'], dtype=object)"
      ]
     },
     "execution_count": 67,
     "metadata": {},
     "output_type": "execute_result"
    }
   ],
   "source": [
    "#convert all the VEHICLE TYPES to lower case to see how many vehicles are actually there\n",
    "\n",
    "train['VEHICLE_TYPE'] = train['VEHICLE_TYPE'].apply(lambda x: x.lower())\n",
    "test['VEHICLE_TYPE'] = test['VEHICLE_TYPE'].apply(lambda x: x.lower())\n",
    "train['VEHICLE_TYPE'].unique()\n",
    "\n",
    "\n",
    "#there are only a total of 7 vehicle types"
   ]
  },
  {
   "cell_type": "code",
   "execution_count": 115,
   "metadata": {},
   "outputs": [
    {
     "data": {
      "text/plain": [
       "<matplotlib.axes._subplots.AxesSubplot at 0x11b511de10>"
      ]
     },
     "execution_count": 115,
     "metadata": {},
     "output_type": "execute_result"
    },
    {
     "data": {
      "image/png": "[encoded data removed]",
      "text/plain": [
       "<matplotlib.figure.Figure at 0x11b4c66400>"
      ]
     },
     "metadata": {},
     "output_type": "display_data"
    }
   ],
   "source": [
    "#countplot to see the no of time each vehicle was used for transport\n",
    "sns.countplot(x='VEHICLE_TYPE', data=train)"
   ]
  },
  {
   "cell_type": "code",
   "execution_count": 69,
   "metadata": {},
   "outputs": [
    {
     "name": "stdout",
     "output_type": "stream",
     "text": [
      "bus  : Total count =  2885 \n",
      " ID                          0\n",
      "TIMESTAMP                   0\n",
      "STARTING_LATITUDE          97\n",
      "STARTING_LONGITUDE         97\n",
      "DESTINATION_LATITUDE      103\n",
      "DESTINATION_LONGITUDE     103\n",
      "VEHICLE_TYPE                0\n",
      "TOTAL_LUGGAGE_WEIGHT     2885\n",
      "WAIT_TIME                2885\n",
      "TRAFFIC_STUCK_TIME          0\n",
      "DISTANCE                    0\n",
      "FARE                        0\n",
      "dtype: int64\n",
      "\n",
      "\n",
      "taxi ac  : Total count =  2798 \n",
      " ID                        0\n",
      "TIMESTAMP                 0\n",
      "STARTING_LATITUDE        91\n",
      "STARTING_LONGITUDE       91\n",
      "DESTINATION_LATITUDE     94\n",
      "DESTINATION_LONGITUDE    94\n",
      "VEHICLE_TYPE              0\n",
      "TOTAL_LUGGAGE_WEIGHT      0\n",
      "WAIT_TIME                 0\n",
      "TRAFFIC_STUCK_TIME        0\n",
      "DISTANCE                  0\n",
      "FARE                      0\n",
      "dtype: int64\n",
      "\n",
      "\n",
      "taxi non ac  : Total count =  2850 \n",
      " ID                        0\n",
      "TIMESTAMP                 0\n",
      "STARTING_LATITUDE        91\n",
      "STARTING_LONGITUDE       91\n",
      "DESTINATION_LATITUDE     77\n",
      "DESTINATION_LONGITUDE    77\n",
      "VEHICLE_TYPE              0\n",
      "TOTAL_LUGGAGE_WEIGHT      0\n",
      "WAIT_TIME                 0\n",
      "TRAFFIC_STUCK_TIME        0\n",
      "DISTANCE                  0\n",
      "FARE                      0\n",
      "dtype: int64\n",
      "\n",
      "\n",
      "metro  : Total count =  2786 \n",
      " ID                          0\n",
      "TIMESTAMP                   0\n",
      "STARTING_LATITUDE          95\n",
      "STARTING_LONGITUDE         95\n",
      "DESTINATION_LATITUDE      105\n",
      "DESTINATION_LONGITUDE     105\n",
      "VEHICLE_TYPE                0\n",
      "TOTAL_LUGGAGE_WEIGHT     2786\n",
      "WAIT_TIME                2786\n",
      "TRAFFIC_STUCK_TIME          0\n",
      "DISTANCE                    0\n",
      "FARE                        0\n",
      "dtype: int64\n",
      "\n",
      "\n",
      "ac bus  : Total count =  2964 \n",
      " ID                          0\n",
      "TIMESTAMP                   0\n",
      "STARTING_LATITUDE         100\n",
      "STARTING_LONGITUDE        100\n",
      "DESTINATION_LATITUDE       86\n",
      "DESTINATION_LONGITUDE      86\n",
      "VEHICLE_TYPE                0\n",
      "TOTAL_LUGGAGE_WEIGHT     2964\n",
      "WAIT_TIME                2964\n",
      "TRAFFIC_STUCK_TIME          0\n",
      "DISTANCE                    0\n",
      "FARE                        0\n",
      "dtype: int64\n",
      "\n",
      "\n",
      "mini bus  : Total count =  2918 \n",
      " ID                          0\n",
      "TIMESTAMP                   0\n",
      "STARTING_LATITUDE         102\n",
      "STARTING_LONGITUDE        102\n",
      "DESTINATION_LATITUDE      104\n",
      "DESTINATION_LONGITUDE     104\n",
      "VEHICLE_TYPE                0\n",
      "TOTAL_LUGGAGE_WEIGHT     2918\n",
      "WAIT_TIME                2918\n",
      "TRAFFIC_STUCK_TIME          0\n",
      "DISTANCE                    0\n",
      "FARE                        0\n",
      "dtype: int64\n",
      "\n",
      "\n",
      "auto rickshaw  : Total count =  2799 \n",
      " ID                          0\n",
      "TIMESTAMP                   0\n",
      "STARTING_LATITUDE          99\n",
      "STARTING_LONGITUDE         99\n",
      "DESTINATION_LATITUDE       94\n",
      "DESTINATION_LONGITUDE      94\n",
      "VEHICLE_TYPE                0\n",
      "TOTAL_LUGGAGE_WEIGHT     2799\n",
      "WAIT_TIME                2799\n",
      "TRAFFIC_STUCK_TIME          0\n",
      "DISTANCE                    0\n",
      "FARE                        0\n",
      "dtype: int64\n",
      "\n",
      "\n"
     ]
    }
   ],
   "source": [
    "# a function writen to see information of each vehicle type \n",
    "\n",
    "for vehicle_type in train['VEHICLE_TYPE'].unique():\n",
    "    subset = train.loc[train['VEHICLE_TYPE'] == vehicle_type]\n",
    "    print(vehicle_type,\" : Total count = \",len(subset),\"\\n\",subset.isnull().sum())\n",
    "    print(\"\\n\")"
   ]
  },
  {
   "cell_type": "code",
   "execution_count": 70,
   "metadata": {},
   "outputs": [
    {
     "name": "stdout",
     "output_type": "stream",
     "text": [
      "taxi_test.shape :  (5739, 11)\n",
      "other_test.shape :  (14261, 11)\n"
     ]
    }
   ],
   "source": [
    "#from the above information we realise that fare of a bus or metro does not depend on the luggage we carry\n",
    "# and wait time ........fare of a bus remains same if it is stuck in traffic \n",
    "# From now on, we make two models one for Taxi (AC and NON AC both), and other for remaining 5 vehicle types\n",
    "\n",
    "\n",
    "## ( | ) stands for union and & stands for intersextion\n",
    "## taxi train contains info about the taxi( ac and non ac)\n",
    "## other train contains info about the other 5 vehicles types\n",
    "taxi_train = train.loc[(train['VEHICLE_TYPE'] == 'taxi ac') | (train['VEHICLE_TYPE'] == 'taxi non ac')]\n",
    "other_train = train.loc[(train['VEHICLE_TYPE'] != 'taxi ac') & (train['VEHICLE_TYPE'] != 'taxi non ac')]\n",
    "\n",
    "print(\"taxi_train.shape : \",taxi_train.shape)\n",
    "print(\"other_train.shape : \",other_train.shape)\n",
    "\n",
    "taxi_test = test.loc[ (test['VEHICLE_TYPE'] == 'taxi ac') | (test['VEHICLE_TYPE'] == 'taxi non ac')]\n",
    "other_test = test.loc[(test['VEHICLE_TYPE'] != 'taxi ac') & (test['VEHICLE_TYPE'] != 'taxi non ac')]\n",
    "print(\"taxi_test.shape : \",taxi_test.shape)\n",
    "print(\"other_test.shape : \",other_test.shape)"
   ]
  },
  {
   "cell_type": "code",
   "execution_count": 71,
   "metadata": {},
   "outputs": [
    {
     "name": "stdout",
     "output_type": "stream",
     "text": [
      "<class 'pandas.core.frame.DataFrame'>\n",
      "Int64Index: 5648 entries, 1 to 19997\n",
      "Data columns (total 12 columns):\n",
      "ID                       5648 non-null int64\n",
      "TIMESTAMP                5648 non-null int64\n",
      "STARTING_LATITUDE        5466 non-null float64\n",
      "STARTING_LONGITUDE       5466 non-null float64\n",
      "DESTINATION_LATITUDE     5477 non-null float64\n",
      "DESTINATION_LONGITUDE    5477 non-null float64\n",
      "VEHICLE_TYPE             5648 non-null object\n",
      "TOTAL_LUGGAGE_WEIGHT     5648 non-null float64\n",
      "WAIT_TIME                5648 non-null float64\n",
      "TRAFFIC_STUCK_TIME       5648 non-null int64\n",
      "DISTANCE                 5648 non-null int64\n",
      "FARE                     5648 non-null float64\n",
      "dtypes: float64(7), int64(4), object(1)\n",
      "memory usage: 573.6+ KB\n",
      "None\n",
      "***********************************************************************\n",
      "<class 'pandas.core.frame.DataFrame'>\n",
      "Int64Index: 5739 entries, 6 to 19995\n",
      "Data columns (total 11 columns):\n",
      "ID                       5739 non-null int64\n",
      "TIMESTAMP                5739 non-null int64\n",
      "STARTING_LATITUDE        5739 non-null float64\n",
      "STARTING_LONGITUDE       5739 non-null float64\n",
      "DESTINATION_LATITUDE     5739 non-null float64\n",
      "DESTINATION_LONGITUDE    5739 non-null float64\n",
      "VEHICLE_TYPE             5739 non-null object\n",
      "TOTAL_LUGGAGE_WEIGHT     5739 non-null float64\n",
      "WAIT_TIME                5739 non-null float64\n",
      "TRAFFIC_STUCK_TIME       5739 non-null int64\n",
      "DISTANCE                 5739 non-null int64\n",
      "dtypes: float64(6), int64(4), object(1)\n",
      "memory usage: 538.0+ KB\n",
      "None\n",
      "<class 'pandas.core.frame.DataFrame'>\n",
      "Int64Index: 14352 entries, 0 to 19999\n",
      "Data columns (total 12 columns):\n",
      "ID                       14352 non-null int64\n",
      "TIMESTAMP                14352 non-null int64\n",
      "STARTING_LATITUDE        13859 non-null float64\n",
      "STARTING_LONGITUDE       13859 non-null float64\n",
      "DESTINATION_LATITUDE     13860 non-null float64\n",
      "DESTINATION_LONGITUDE    13860 non-null float64\n",
      "VEHICLE_TYPE             14352 non-null object\n",
      "TOTAL_LUGGAGE_WEIGHT     0 non-null float64\n",
      "WAIT_TIME                0 non-null float64\n",
      "TRAFFIC_STUCK_TIME       14352 non-null int64\n",
      "DISTANCE                 14352 non-null int64\n",
      "FARE                     14352 non-null float64\n",
      "dtypes: float64(7), int64(4), object(1)\n",
      "memory usage: 1.4+ MB\n",
      "None\n",
      "***********************************************************************\n",
      "<class 'pandas.core.frame.DataFrame'>\n",
      "Int64Index: 14261 entries, 0 to 19999\n",
      "Data columns (total 11 columns):\n",
      "ID                       14261 non-null int64\n",
      "TIMESTAMP                14261 non-null int64\n",
      "STARTING_LATITUDE        14261 non-null float64\n",
      "STARTING_LONGITUDE       14261 non-null float64\n",
      "DESTINATION_LATITUDE     14261 non-null float64\n",
      "DESTINATION_LONGITUDE    14261 non-null float64\n",
      "VEHICLE_TYPE             14261 non-null object\n",
      "TOTAL_LUGGAGE_WEIGHT     0 non-null float64\n",
      "WAIT_TIME                0 non-null float64\n",
      "TRAFFIC_STUCK_TIME       14261 non-null int64\n",
      "DISTANCE                 14261 non-null int64\n",
      "dtypes: float64(6), int64(4), object(1)\n",
      "memory usage: 1.3+ MB\n",
      "None\n"
     ]
    }
   ],
   "source": [
    "print( taxi_train.info())\n",
    "print(\"***********************************************************************\")\n",
    "print(taxi_test.info())\n",
    "\n",
    "print( other_train.info())\n",
    "print(\"***********************************************************************\")\n",
    "print(other_test.info())"
   ]
  },
  {
   "cell_type": "code",
   "execution_count": 72,
   "metadata": {
    "collapsed": true
   },
   "outputs": [],
   "source": [
    "#other_train and other_test has 0 non null WAIT_TIME and TOTAL_LUGGAGE_WEIGHT\n",
    "other_train.drop(['WAIT_TIME','TOTAL_LUGGAGE_WEIGHT'],axis=1,inplace=True)\n",
    "other_test.drop(['WAIT_TIME','TOTAL_LUGGAGE_WEIGHT'],axis=1,inplace=True)"
   ]
  },
  {
   "cell_type": "code",
   "execution_count": 73,
   "metadata": {
    "collapsed": true,
    "scrolled": true
   },
   "outputs": [],
   "source": [
    "#Dropping langitudes and longitudes for now\n",
    "#taxi_train.drop(['STARTING_LATITUDE','STARTING_LONGITUDE','DESTINATION_LATITUDE','DESTINATION_LONGITUDE'],axis=1,inplace=True)\n",
    "#taxi_test.drop(['STARTING_LATITUDE','STARTING_LONGITUDE','DESTINATION_LATITUDE','DESTINATION_LONGITUDE'],axis=1,inplace=True)\n",
    "\n",
    "#other_train.drop(['STARTING_LATITUDE','STARTING_LONGITUDE','DESTINATION_LATITUDE','DESTINATION_LONGITUDE'],axis=1,inplace=True)\n",
    "#other_test.drop(['STARTING_LATITUDE','STARTING_LONGITUDE','DESTINATION_LATITUDE','DESTINATION_LONGITUDE'],axis=1,inplace=True)\n",
    "\n",
    "#latitudes and longitudes originate from some fixed points\n",
    "#filling latitudes with median because filling it with mean may give us a whole new latitude (location) \n",
    "#therefore i fliled it with median\n",
    "\n",
    "taxi_train.fillna(train['STARTING_LATITUDE'].median(), inplace=True)\n",
    "other_train.fillna(train['STARTING_LATITUDE'].median(), inplace=True)"
   ]
  },
  {
   "cell_type": "code",
   "execution_count": 76,
   "metadata": {
    "scrolled": false
   },
   "outputs": [
    {
     "name": "stdout",
     "output_type": "stream",
     "text": [
      "<class 'pandas.core.frame.DataFrame'>\n",
      "Int64Index: 5648 entries, 1 to 19997\n",
      "Data columns (total 12 columns):\n",
      "ID                       5648 non-null int64\n",
      "TIMESTAMP                5648 non-null int64\n",
      "STARTING_LATITUDE        5648 non-null float64\n",
      "STARTING_LONGITUDE       5648 non-null float64\n",
      "DESTINATION_LATITUDE     5648 non-null float64\n",
      "DESTINATION_LONGITUDE    5648 non-null float64\n",
      "VEHICLE_TYPE             5648 non-null object\n",
      "TOTAL_LUGGAGE_WEIGHT     5648 non-null float64\n",
      "WAIT_TIME                5648 non-null float64\n",
      "TRAFFIC_STUCK_TIME       5648 non-null int64\n",
      "DISTANCE                 5648 non-null int64\n",
      "FARE                     5648 non-null float64\n",
      "dtypes: float64(7), int64(4), object(1)\n",
      "memory usage: 573.6+ KB\n",
      "None\n",
      "*******************************************************\n",
      "<bound method DataFrame.info of           ID  TIMESTAMP  STARTING_LATITUDE  STARTING_LONGITUDE  \\\n",
      "6          7          3          13.006167           77.595210   \n",
      "8          9          5          13.192150           80.143036   \n",
      "16        17          7          12.985632           77.579411   \n",
      "18        19          3          22.653248           88.414555   \n",
      "23        24          7          12.867422           77.670608   \n",
      "27        28          1          28.566135           77.126141   \n",
      "28        29          4          25.310830           82.991960   \n",
      "30        31          6          13.076624           77.561081   \n",
      "31        32          4          22.682455           88.439473   \n",
      "33        34          0          12.886494           77.606943   \n",
      "34        35          1          19.081126           72.840622   \n",
      "40        41          1          12.894210           77.595759   \n",
      "50        51          7          22.582860           88.391594   \n",
      "57        58          1          25.292214           82.975765   \n",
      "59        60          7          19.073858           72.863622   \n",
      "64        65          5          13.113110           77.689537   \n",
      "68        69          0          22.535302           88.385976   \n",
      "72        73          4          28.588511           77.196378   \n",
      "73        74          5          22.722720           88.385827   \n",
      "79        80          2          13.080264           77.579639   \n",
      "82        83          7          12.911105           77.599094   \n",
      "84        85          4          28.670075           77.138438   \n",
      "89        90          7          13.043723           80.208269   \n",
      "92        93          2          28.641255           77.215329   \n",
      "96        97          4          12.945517           77.714476   \n",
      "98        99          2          28.711563           77.117295   \n",
      "99       100          4          25.327417           83.009535   \n",
      "105      106          5          22.474864           88.383689   \n",
      "107      108          6          12.860771           77.522673   \n",
      "108      109          1          12.844956           77.622315   \n",
      "...      ...        ...                ...                 ...   \n",
      "19906  19907          4          25.277229           82.988867   \n",
      "19907  19908          7          28.709729           77.053331   \n",
      "19908  19909          5          22.496783           88.438860   \n",
      "19914  19915          1          13.080187           80.181825   \n",
      "19915  19916          5          22.619634           88.406164   \n",
      "19918  19919          2          28.726547           77.210237   \n",
      "19919  19920          6          25.358926           82.981913   \n",
      "19922  19923          4          25.369575           83.017536   \n",
      "19923  19924          5          28.596311           77.014132   \n",
      "19928  19929          1          25.272834           82.986685   \n",
      "19929  19930          4          25.367802           83.016077   \n",
      "19931  19932          1          22.724597           88.376120   \n",
      "19934  19935          5          22.580497           88.381908   \n",
      "19935  19936          7          12.944246           77.469956   \n",
      "19943  19944          6          22.492147           88.410000   \n",
      "19944  19945          6          28.723944           77.180088   \n",
      "19948  19949          6          13.095242           80.169798   \n",
      "19957  19958          2          19.127928           72.851273   \n",
      "19960  19961          1          12.921724           80.203895   \n",
      "19961  19962          1          28.672988           77.002959   \n",
      "19962  19963          3          13.189104           80.224469   \n",
      "19966  19967          5          25.319547           82.979451   \n",
      "19967  19968          4          13.076826           80.251320   \n",
      "19969  19970          5          28.722020           77.152158   \n",
      "19970  19971          4          13.007189           77.472732   \n",
      "19973  19974          3          13.111359           80.160920   \n",
      "19976  19977          5          13.079978           80.200181   \n",
      "19984  19985          0          12.924877           77.631192   \n",
      "19988  19989          0          12.992250           77.548395   \n",
      "19995  19996          5          22.609127           88.440640   \n",
      "\n",
      "       DESTINATION_LATITUDE  DESTINATION_LONGITUDE VEHICLE_TYPE  \\\n",
      "6                 12.933962              77.636775  taxi non ac   \n",
      "8                 13.093686              80.184869      taxi ac   \n",
      "16                12.996826              77.650541  taxi non ac   \n",
      "18                22.499224              88.382153  taxi non ac   \n",
      "23                12.924173              77.689581      taxi ac   \n",
      "27                28.685634              77.045348  taxi non ac   \n",
      "28                25.303292              83.018990  taxi non ac   \n",
      "30                13.025495              77.569012      taxi ac   \n",
      "31                22.469743              88.381077      taxi ac   \n",
      "33                13.140491              77.605323  taxi non ac   \n",
      "34                19.072130              72.858740  taxi non ac   \n",
      "40                12.953079              77.586398      taxi ac   \n",
      "50                22.514559              88.381705      taxi ac   \n",
      "57                25.325511              82.980315      taxi ac   \n",
      "59                19.112015              72.873700  taxi non ac   \n",
      "64                13.098785              77.668971      taxi ac   \n",
      "68                22.557463              88.419293      taxi ac   \n",
      "72                28.742833              76.989310      taxi ac   \n",
      "73                22.710015              88.446236  taxi non ac   \n",
      "79                13.138660              77.650118      taxi ac   \n",
      "82                13.071301              77.617615      taxi ac   \n",
      "84                28.564516              77.027847  taxi non ac   \n",
      "89                12.965054              80.203585  taxi non ac   \n",
      "92                28.600253              77.082966  taxi non ac   \n",
      "96                13.133163              77.713199  taxi non ac   \n",
      "98                28.686317              77.172225  taxi non ac   \n",
      "99                25.337084              83.014499      taxi ac   \n",
      "105               22.685836              88.398031  taxi non ac   \n",
      "107               13.017189              77.473050      taxi ac   \n",
      "108               13.015898              77.545719  taxi non ac   \n",
      "...                     ...                    ...          ...   \n",
      "19906             25.338437              82.984685  taxi non ac   \n",
      "19907             28.651473              77.109002  taxi non ac   \n",
      "19908             22.722724              88.446506  taxi non ac   \n",
      "19914             13.159691              80.253386  taxi non ac   \n",
      "19915             22.718332              88.388905      taxi ac   \n",
      "19918             28.752633              77.177044      taxi ac   \n",
      "19919             25.340776              82.975625      taxi ac   \n",
      "19922             25.293806              83.017911  taxi non ac   \n",
      "19923             28.713781              77.159451      taxi ac   \n",
      "19928             25.367213              83.003778  taxi non ac   \n",
      "19929             25.388724              82.997599  taxi non ac   \n",
      "19931             22.594916              88.421952      taxi ac   \n",
      "19934             22.582126              88.386268      taxi ac   \n",
      "19935             12.990853              77.644947      taxi ac   \n",
      "19943             22.620124              88.378809      taxi ac   \n",
      "19944             28.589626              77.104659      taxi ac   \n",
      "19948             13.036042              80.231678  taxi non ac   \n",
      "19957             19.197561              72.847521  taxi non ac   \n",
      "19960             13.070911              80.165192  taxi non ac   \n",
      "19961             28.563894              77.190409      taxi ac   \n",
      "19962             13.040440              80.242135  taxi non ac   \n",
      "19966             25.361051              83.007399  taxi non ac   \n",
      "19967             12.904035              80.209892      taxi ac   \n",
      "19969             28.685808              77.100653      taxi ac   \n",
      "19970             13.134956              77.584414  taxi non ac   \n",
      "19973             12.946744              80.136109      taxi ac   \n",
      "19976             13.079201              80.195816      taxi ac   \n",
      "19984             13.094097              77.691680  taxi non ac   \n",
      "19988             12.935419              77.550325      taxi ac   \n",
      "19995             22.472033              88.411039  taxi non ac   \n",
      "\n",
      "       TOTAL_LUGGAGE_WEIGHT  WAIT_TIME  TRAFFIC_STUCK_TIME  DISTANCE  \n",
      "6                       7.0        4.0                  12        38  \n",
      "8                      15.0       16.0                   5        14  \n",
      "16                     14.0       17.0                  47        33  \n",
      "18                     25.0       12.0                   0        31  \n",
      "23                     21.0       17.0                  12        17  \n",
      "27                     26.0        1.0                  31        44  \n",
      "28                      9.0        0.0                   2         7  \n",
      "30                     24.0        8.0                  47        40  \n",
      "31                      5.0        2.0                  63        35  \n",
      "33                     18.0        6.0                  52        33  \n",
      "34                     27.0        9.0                   2         5  \n",
      "40                     23.0       10.0                  23        30  \n",
      "50                     28.0        7.0                  57        35  \n",
      "57                     17.0        1.0                  62        45  \n",
      "59                     17.0       17.0                  41        32  \n",
      "64                     15.0       15.0                  28        15  \n",
      "68                     30.0       17.0                  24        21  \n",
      "72                     24.0        0.0                  39        47  \n",
      "73                     15.0       16.0                   3        23  \n",
      "79                      8.0       13.0                  30        35  \n",
      "82                     22.0        9.0                   4        31  \n",
      "84                      3.0       14.0                  19        29  \n",
      "89                     29.0        6.0                  31        23  \n",
      "92                      5.0        4.0                  63        36  \n",
      "96                     22.0       17.0                  20        46  \n",
      "98                     14.0       16.0                  55        46  \n",
      "99                     27.0       11.0                  46        29  \n",
      "105                    11.0       18.0                   5        34  \n",
      "107                    17.0        1.0                  47        44  \n",
      "108                    29.0        1.0                  38        35  \n",
      "...                     ...        ...                 ...       ...  \n",
      "19906                  30.0       11.0                  16        32  \n",
      "19907                  11.0        4.0                  21        23  \n",
      "19908                   1.0        6.0                  32        36  \n",
      "19914                   4.0        5.0                   5        43  \n",
      "19915                  10.0       18.0                  28        27  \n",
      "19918                   5.0        3.0                  42        32  \n",
      "19919                  21.0        2.0                   7         6  \n",
      "19922                  26.0        0.0                  16        40  \n",
      "19923                  16.0        2.0                   8        21  \n",
      "19928                  14.0        4.0                  11        21  \n",
      "19929                  27.0       13.0                  40        33  \n",
      "19931                  22.0        9.0                  22        37  \n",
      "19934                  27.0       17.0                   7         4  \n",
      "19935                   9.0       12.0                  41        35  \n",
      "19943                  10.0        3.0                  31        26  \n",
      "19944                   8.0        6.0                  14        22  \n",
      "19948                  23.0       19.0                   4        15  \n",
      "19957                  13.0        0.0                  13        26  \n",
      "19960                  13.0       11.0                  17        34  \n",
      "19961                   9.0        3.0                   5        28  \n",
      "19962                   8.0        1.0                   7        38  \n",
      "19966                  18.0       15.0                   7         7  \n",
      "19967                  27.0        5.0                  31        39  \n",
      "19969                   7.0       13.0                  32        45  \n",
      "19970                   9.0        1.0                  37        27  \n",
      "19973                  12.0       17.0                   5        41  \n",
      "19976                  17.0        5.0                  21        29  \n",
      "19984                   1.0        5.0                  63        42  \n",
      "19988                  10.0       10.0                  34        20  \n",
      "19995                  27.0        7.0                   1        36  \n",
      "\n",
      "[5739 rows x 11 columns]>\n",
      "*******************************************************\n"
     ]
    },
    {
     "ename": "NameError",
     "evalue": "name 'print9other_train' is not defined",
     "output_type": "error",
     "traceback": [
      "\u001b[1;31m---------------------------------------------------------------------------\u001b[0m",
      "\u001b[1;31mNameError\u001b[0m                                 Traceback (most recent call last)",
      "\u001b[1;32m<ipython-input-76-0d56cf30ad33>\u001b[0m in \u001b[0;36m<module>\u001b[1;34m()\u001b[0m\n\u001b[0;32m      3\u001b[0m \u001b[0mprint\u001b[0m\u001b[1;33m(\u001b[0m\u001b[0mtaxi_test\u001b[0m\u001b[1;33m.\u001b[0m\u001b[0minfo\u001b[0m\u001b[1;33m)\u001b[0m\u001b[1;33m\u001b[0m\u001b[0m\n\u001b[0;32m      4\u001b[0m \u001b[0mprint\u001b[0m\u001b[1;33m(\u001b[0m\u001b[1;34m\"*******************************************************\"\u001b[0m\u001b[1;33m)\u001b[0m\u001b[1;33m\u001b[0m\u001b[0m\n\u001b[1;32m----> 5\u001b[1;33m \u001b[0mprint9other_train\u001b[0m\u001b[1;33m.\u001b[0m\u001b[0minfo\u001b[0m\u001b[1;33m(\u001b[0m\u001b[1;33m)\u001b[0m\u001b[1;33m\u001b[0m\u001b[0m\n\u001b[0m\u001b[0;32m      6\u001b[0m \u001b[0mprint\u001b[0m\u001b[1;33m(\u001b[0m\u001b[1;34m\"*******************************************************\"\u001b[0m\u001b[1;33m)\u001b[0m\u001b[1;33m\u001b[0m\u001b[0m\n\u001b[0;32m      7\u001b[0m \u001b[0mprint\u001b[0m\u001b[1;33m(\u001b[0m\u001b[0mother_test\u001b[0m\u001b[1;33m.\u001b[0m\u001b[0minfo\u001b[0m\u001b[1;33m(\u001b[0m\u001b[1;33m)\u001b[0m\u001b[1;33m)\u001b[0m\u001b[1;33m\u001b[0m\u001b[0m\n",
      "\u001b[1;31mNameError\u001b[0m: name 'print9other_train' is not defined"
     ]
    }
   ],
   "source": [
    "print(taxi_train.info())\n",
    "print(\"*******************************************************\")\n",
    "print(taxi_test.info)\n",
    "print(\"*******************************************************\")\n",
    "print9other_train.info()\n",
    "print(\"*******************************************************\")\n",
    "print(other_test.info())"
   ]
  },
  {
   "cell_type": "code",
   "execution_count": 77,
   "metadata": {},
   "outputs": [
    {
     "data": {
      "text/plain": [
       "<matplotlib.axes._subplots.AxesSubplot at 0x11ae979d30>"
      ]
     },
     "execution_count": 77,
     "metadata": {},
     "output_type": "execute_result"
    },
    {
     "data": {
      "image/png": "[encoded data removed]",
      "text/plain": [
       "<matplotlib.figure.Figure at 0x11b50156d8>"
      ]
     },
     "metadata": {},
     "output_type": "display_data"
    }
   ],
   "source": [
    "#TAXI TRAIN\n",
    "sns.distplot(taxi_train['DISTANCE'])"
   ]
  },
  {
   "cell_type": "code",
   "execution_count": 78,
   "metadata": {
    "collapsed": true
   },
   "outputs": [],
   "source": [
    "#mapping the vehicles as integer values in the dataframe 0 for taxi ac and 1 for non ac taxi\n",
    "\n",
    "taxi_train['VEHICLE_TYPE'] = taxi_train['VEHICLE_TYPE'].map({'taxi ac':0,'taxi non ac':1})\n",
    "taxi_test['VEHICLE_TYPE'] = taxi_test['VEHICLE_TYPE'].map({'taxi ac':0,'taxi non ac':1})"
   ]
  },
  {
   "cell_type": "code",
   "execution_count": 79,
   "metadata": {
    "collapsed": true
   },
   "outputs": [],
   "source": [
    "#there are 5 vehicle types I am trying to create new columns using one_hot encoding scheme and map each of these string type vehicles\n",
    "#into 1 or 0 eg.create a new row of metro and label it as 1 whenever metro is used else label it as 0\n",
    "\n",
    "## any one row can be dropped since the probability of other row being 0 is the same as that row being one\n",
    "#if not removed, to many features can overfit the data\n",
    "\n",
    "one_hot = pd.get_dummies(other_train['VEHICLE_TYPE'])\n",
    "other_train.drop(['VEHICLE_TYPE'],axis=1,inplace=True)\n",
    "other_train = other_train.join(one_hot)\n",
    "other_train.drop(['ac bus'],axis=1,inplace=True) #Drop any 1\n",
    "print( other_train.columns)\n",
    "\n",
    "one_hot = pd.get_dummies(other_test['VEHICLE_TYPE'])\n",
    "other_test.drop(['VEHICLE_TYPE'],axis=1,inplace=True)\n",
    "other_test = other_test.join(one_hot)\n",
    "other_test.drop(['ac bus'],axis=1,inplace=True) #Drop same one as dropped in train set\n",
    "print(other_test.columns)\n",
    "\n",
    "#Either below one or above one, not both together\n",
    "\n",
    "#i've chosen the above one because the cross validation accuracy was more on it\n",
    "\n",
    "#other_train['VEHICLE_TYPE'] = other_train['VEHICLE_TYPE'].map({'auto rickshaw':0,'mini bus':1,'ac bus':2,'metro':3,'bus':4})\n",
    "#other_test['VEHICLE_TYPE'] = other_test['VEHICLE_TYPE'].map({'auto rickshaw':0,'mini bus':1,'ac bus':2,'metro':3,'bus':4})\n"
   ]
  },
  {
   "cell_type": "code",
   "execution_count": 80,
   "metadata": {
    "collapsed": true
   },
   "outputs": [],
   "source": [
    "#TAXI DATASET TRAINING\n",
    "train_X = taxi_train.drop(['ID','FARE'],axis=1)\n",
    "Y = taxi_train['FARE']\n",
    "test_X = taxi_test.drop(['ID'],axis=1)\n",
    "\n",
    "#OTHER DATASET TRAINING\n",
    "#train_X = other_train.drop(['ID','FARE'],axis=1)\n",
    "#Y = other_train['FARE']\n",
    "#test_X = other_test.drop(['ID'],axis=1)"
   ]
  },
  {
   "cell_type": "code",
   "execution_count": 81,
   "metadata": {
    "collapsed": true
   },
   "outputs": [],
   "source": [
    "from sklearn.model_selection import train_test_split\n",
    "X_train, X_val, Y_train, Y_val = train_test_split(train_X, Y, test_size = 0.20)"
   ]
  },
  {
   "cell_type": "code",
   "execution_count": 82,
   "metadata": {
    "collapsed": true
   },
   "outputs": [],
   "source": [
    "from sklearn.preprocessing import StandardScaler\n",
    "scaler = StandardScaler()\n",
    "scaler.fit(X_train)\n",
    "X_train = scaler.transform(X_train)\n",
    "X_val = scaler.transform(X_val)"
   ]
  },
  {
   "cell_type": "code",
   "execution_count": 83,
   "metadata": {
    "collapsed": true
   },
   "outputs": [],
   "source": [
    "#applying gradient boosting technique\n",
    "import lightgbm as lgb"
   ]
  },
  {
   "cell_type": "code",
   "execution_count": 84,
   "metadata": {
    "collapsed": true
   },
   "outputs": [],
   "source": [
    "#parameters were tuned with the help of KAGGLE'S KERNEL\n",
    "params = {\n",
    "    'task': 'train',\n",
    "    'objective': 'regression',\n",
    "    'metric': {'l2', 'auc'},\n",
    "    'num_leaves': 31,\n",
    "    'learning_rate': 0.05,\n",
    "    'feature_fraction': 0.9,\n",
    "    'bagging_fraction': 0.8,\n",
    "    'bagging_freq': 5\n",
    "}\n"
   ]
  },
  {
   "cell_type": "code",
   "execution_count": 85,
   "metadata": {},
   "outputs": [
    {
     "name": "stdout",
     "output_type": "stream",
     "text": [
      "184.886176343\n"
     ]
    }
   ],
   "source": [
    "dtrain = lgb.Dataset(X_train, Y_train)\n",
    "#dval = lgb.Dataset(X_val, Y_val)\n",
    "clf = lgb.train(params, dtrain,num_boost_round=100)\n",
    "preds = clf.predict(X_val)\n",
    "print(r2_score(Y_val,preds)*200)\n"
   ]
  },
  {
   "cell_type": "code",
   "execution_count": null,
   "metadata": {
    "collapsed": true
   },
   "outputs": [],
   "source": []
  },
  {
   "cell_type": "code",
   "execution_count": 86,
   "metadata": {},
   "outputs": [
    {
     "ename": "NameError",
     "evalue": "name 'xgb' is not defined",
     "output_type": "error",
     "traceback": [
      "\u001b[1;31m---------------------------------------------------------------------------\u001b[0m",
      "\u001b[1;31mNameError\u001b[0m                                 Traceback (most recent call last)",
      "\u001b[1;32m<ipython-input-86-ce407fd1c1dd>\u001b[0m in \u001b[0;36m<module>\u001b[1;34m()\u001b[0m\n\u001b[1;32m----> 1\u001b[1;33m \u001b[0mmodel_xgb\u001b[0m \u001b[1;33m=\u001b[0m \u001b[0mxgb\u001b[0m\u001b[1;33m.\u001b[0m\u001b[0mXGBRegressor\u001b[0m\u001b[1;33m(\u001b[0m\u001b[0mn_estimators\u001b[0m\u001b[1;33m=\u001b[0m\u001b[1;36m500\u001b[0m\u001b[1;33m,\u001b[0m \u001b[0mmax_depth\u001b[0m\u001b[1;33m=\u001b[0m\u001b[1;36m2\u001b[0m\u001b[1;33m,\u001b[0m \u001b[0mlearning_rate\u001b[0m\u001b[1;33m=\u001b[0m\u001b[1;36m0.05\u001b[0m\u001b[1;33m)\u001b[0m \u001b[1;31m#the params were tuned using xgb.cv\u001b[0m\u001b[1;33m\u001b[0m\u001b[0m\n\u001b[0m\u001b[0;32m      2\u001b[0m \u001b[0mmodel_xgb\u001b[0m\u001b[1;33m.\u001b[0m\u001b[0mfit\u001b[0m\u001b[1;33m(\u001b[0m\u001b[0mX_train\u001b[0m\u001b[1;33m,\u001b[0m \u001b[0mY_train\u001b[0m\u001b[1;33m)\u001b[0m\u001b[1;33m\u001b[0m\u001b[0m\n\u001b[0;32m      3\u001b[0m \u001b[0mpreds\u001b[0m \u001b[1;33m=\u001b[0m \u001b[0mmodel_xgb\u001b[0m\u001b[1;33m.\u001b[0m\u001b[0mpredict\u001b[0m\u001b[1;33m(\u001b[0m\u001b[0mX_val\u001b[0m\u001b[1;33m)\u001b[0m\u001b[1;33m\u001b[0m\u001b[0m\n\u001b[0;32m      4\u001b[0m \u001b[0mprint\u001b[0m\u001b[1;33m(\u001b[0m\u001b[0mr2_score\u001b[0m\u001b[1;33m(\u001b[0m\u001b[0mY_val\u001b[0m\u001b[1;33m,\u001b[0m\u001b[0mpreds\u001b[0m\u001b[1;33m)\u001b[0m\u001b[1;33m*\u001b[0m\u001b[1;36m200\u001b[0m\u001b[1;33m)\u001b[0m\u001b[1;33m\u001b[0m\u001b[0m\n",
      "\u001b[1;31mNameError\u001b[0m: name 'xgb' is not defined"
     ]
    }
   ],
   "source": [
    "model_xgb = xgb.XGBRegressor(n_estimators=500, max_depth=2, learning_rate=0.05) #the params were tuned using xgb.cv\n",
    "model_xgb.fit(X_train, Y_train)\n",
    "preds = model_xgb.predict(X_val)\n",
    "print(r2_score(Y_val,preds)*200)"
   ]
  },
  {
   "cell_type": "code",
   "execution_count": 87,
   "metadata": {},
   "outputs": [
    {
     "name": "stdout",
     "output_type": "stream",
     "text": [
      "144.907885104\n"
     ]
    }
   ],
   "source": [
    "from sklearn.linear_model import LinearRegression\n",
    "model=LinearRegression()\n",
    "model.fit(X_train,Y_train)\n",
    "pre=model.predict(X_val)\n",
    "print(r2_score(Y_val,pre)*200)"
   ]
  },
  {
   "cell_type": "code",
   "execution_count": 88,
   "metadata": {},
   "outputs": [
    {
     "name": "stdout",
     "output_type": "stream",
     "text": [
      "141.123683531\n"
     ]
    }
   ],
   "source": [
    "from sklearn.svm import SVR\n",
    "svr = SVR(kernel='linear',C=1)\n",
    "svr.fit(X_train,Y_train)\n",
    "preds = svr.predict(X_val)\n",
    "print( r2_score(Y_val,preds)*200)"
   ]
  },
  {
   "cell_type": "code",
   "execution_count": 89,
   "metadata": {
    "collapsed": true
   },
   "outputs": [],
   "source": [
    "from sklearn.linear_model import Ridge, RidgeCV, ElasticNet, LassoCV, LassoLarsCV"
   ]
  },
  {
   "cell_type": "code",
   "execution_count": 90,
   "metadata": {},
   "outputs": [
    {
     "data": {
      "text/plain": [
       "144.9078610515318"
      ]
     },
     "execution_count": 90,
     "metadata": {},
     "output_type": "execute_result"
    }
   ],
   "source": [
    "ridge = Ridge(alpha=0.1)\n",
    "ridge.fit(X_train,Y_train)\n",
    "preds = ridge.predict(X_val)\n",
    "r2_score(Y_val,preds)*200"
   ]
  },
  {
   "cell_type": "code",
   "execution_count": 91,
   "metadata": {},
   "outputs": [
    {
     "data": {
      "text/plain": [
       "144.9055230827189"
      ]
     },
     "execution_count": 91,
     "metadata": {},
     "output_type": "execute_result"
    }
   ],
   "source": [
    "lasso = LassoCV(alphas=[0.01,0.1,1,2])\n",
    "lasso.fit(X_train,Y_train)\n",
    "preds = lasso.predict(X_val)\n",
    "r2_score(Y_val,preds)*200"
   ]
  },
  {
   "cell_type": "code",
   "execution_count": 92,
   "metadata": {
    "collapsed": true
   },
   "outputs": [],
   "source": [
    "##XGB \n",
    "model_xgb = xgb.XGBRegressor(n_estimators=500, max_depth=2, learning_rate=0.05)\n",
    "model_xgb.fit(taxi_train.drop(['ID','FARE'],axis=1), taxi_train['FARE'])\n",
    "preds = model_xgb.predict(taxi_test.drop(['ID'],axis=1))\n",
    "df1 = pd.DataFrame({'FARE':preds,'ID':taxi_test['ID']})"
   ]
  },
  {
   "cell_type": "code",
   "execution_count": null,
   "metadata": {
    "collapsed": true
   },
   "outputs": [],
   "source": [
    "model_xgb = xgb.XGBRegressor(n_estimators=500, max_depth=2, learning_rate=0.05)\n",
    "model_xgb.fit(other_train.drop(['ID','FARE'],axis=1), other_train['FARE'])\n",
    "preds = model_xgb.predict(other_test.drop(['ID'],axis=1))\n",
    "df2 = pd.DataFrame({'ID':other_test['ID'],'FARE':preds})"
   ]
  },
  {
   "cell_type": "code",
   "execution_count": 98,
   "metadata": {
    "collapsed": true
   },
   "outputs": [],
   "source": [
    "#LGBM HAS WON BY A SMALL MARGIN OVER XGBOOST\n",
    "dtrain=lgb.Dataset(taxi_train.drop(['ID','FARE'],axis=1),taxi_train['FARE'])\n",
    "clf = lgb.train(params, dtrain,num_boost_round=100)\n",
    "preds = clf.predict(taxi_test.drop(['ID'],axis=1))\n",
    "df1 = pd.DataFrame({'FARE':preds,'ID':taxi_test['ID']})"
   ]
  },
  {
   "cell_type": "code",
   "execution_count": 101,
   "metadata": {},
   "outputs": [],
   "source": [
    "#LGBM\n",
    "dtrain2=lgb.Dataset(other_train.drop(['ID','FARE'],axis=1), other_train['FARE'])\n",
    "clf2 = lgb.train(params, dtrain2,num_boost_round=100)\n",
    "preds = clf2.predict(other_test.drop(['ID'],axis=1))\n",
    "df2 = pd.DataFrame({'ID':other_test['ID'],'FARE':preds})"
   ]
  },
  {
   "cell_type": "code",
   "execution_count": 102,
   "metadata": {},
   "outputs": [],
   "source": [
    "result = pd.concat([df1,df2]).sort_values(['ID'])\n",
    "result[['ID','FARE']].to_csv('avishkarLGBM3.csv',index=False)"
   ]
  },
  {
   "cell_type": "code",
   "execution_count": 19,
   "metadata": {
    "collapsed": true
   },
   "outputs": [],
   "source": [
    "\n"
   ]
  },
  {
   "cell_type": "code",
   "execution_count": null,
   "metadata": {},
   "outputs": [],
   "source": []
  },
  {
   "cell_type": "code",
   "execution_count": null,
   "metadata": {},
   "outputs": [],
   "source": []
  },
  {
   "cell_type": "code",
   "execution_count": null,
   "metadata": {
    "collapsed": true
   },
   "outputs": [],
   "source": [
    "\\"
   ]
  }
 ],
 "metadata": {
  "kernelspec": {
   "display_name": "Python 3",
   "language": "python",
   "name": "python3"
  },
  "language_info": {
   "codemirror_mode": {
    "name": "ipython",
    "version": 3
   },
   "file_extension": ".py",
   "mimetype": "text/x-python",
   "name": "python",
   "nbconvert_exporter": "python",
   "pygments_lexer": "ipython3",
   "version": "3.6.1"
  }
 },
 "nbformat": 4,
 "nbformat_minor": 2
}
